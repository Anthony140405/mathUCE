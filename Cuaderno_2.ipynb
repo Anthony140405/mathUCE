{
  "nbformat": 4,
  "nbformat_minor": 0,
  "metadata": {
    "colab": {
      "provenance": []
    },
    "kernelspec": {
      "name": "python3",
      "display_name": "Python 3"
    },
    "language_info": {
      "name": "python"
    }
  },
  "cells": [
    {
      "cell_type": "markdown",
      "source": [
        "**Algoritmos de programación, sistemas númericos y cardinalidad**\n",
        "\n",
        "---\n",
        "**Definición de algoritmo**\n",
        "\n",
        "---\n",
        "\n",
        "\n",
        "En informática, se llaman algoritmos el conjunto de instrucciones sistemáticas y previamente definidas que se utilizan para realizar una determinada tarea. Estas instrucciones están ordenadas y acotadas a manera de pasos a seguir para alcanzar un objetivo.\n",
        "\n",
        "Todo algoritmo tiene una entrada, conocida como input y una salida conocida como output y entre medias están las instrucciones o secuencia de pasos a seguir. Estos pasos deben estar ordenados y sobre todo, deben ser una serie finita de operaciones que permitan conseguir una determinada solución.\n",
        "\n",
        "En el mundo de la programación, todo programa o sistema operativo funciona a través de algoritmos, escritos en un lenguaje de programación que el ordenador pueda entender para ejecutar los pasos o instrucciones de una forma automatizada. A nivel de big data e inteligencia artificial, los algoritmos analizan la información y datos de consumidores y usuarios finales.\n",
        "\n",
        "![Texto alternativo](https://mujeres360.org/wp-content/uploads/2021/09/algoritmos.jpeg)"
      ],
      "metadata": {
        "id": "kZlY31U0_YdP"
      }
    },
    {
      "cell_type": "markdown",
      "source": [
        "**Parte de un algortimo**\n",
        "\n",
        "---\n",
        "\n",
        "\n",
        "\n",
        "1. **Inicio y fin**: Todo algoritmo comienza desde un estado inicial definido y ejecuta una serie de instrucciones ordenadas para llegar a un estado final o de salida.\n",
        "\n",
        "2. **Exactitud**: Los algoritmos deben definir claramente un orden específico y lógico de instrucciones para cada paso, evitando ambigüedades o interpretaciones múltiples.\n",
        "\n",
        "3. **Secuencia**: Deben seguir una secuencia de pasos ordenados y entendibles, previamente establecidos para resolver el problema o realizar la tarea deseada.\n",
        "\n",
        "4. **Completitud**: Un algoritmo debe considerar todas las posibles situaciones y condiciones del problema para encontrar una solución precisa y correcta.\n",
        "\n",
        "5. **Finitud**: El número de pasos o iteraciones necesarios para ejecutar el algoritmo debe ser finito, de modo que la ejecución pueda concluir en un tiempo razonable.\n",
        "\n",
        "6. **Abstractos**: Los algoritmos representan un modelo o guía abstracta para la ordenación de procesos o la resolución de problemas, independientemente de la implementación física o tecnológica que se utilice.\n",
        "\n",
        "Estas características son fundamentales para la definición y comprensión de cualquier algoritmo, sea cual sea su aplicación o campo de estudio."
      ],
      "metadata": {
        "id": "wCnhbALX_nwC"
      }
    },
    {
      "cell_type": "markdown",
      "source": [
        "**Diagrama de flujo**\n",
        "\n",
        "---\n",
        "\n",
        "\n",
        "En el diagrama de flujo se representan todos los pasos, las secuencias y las decisiones de un proceso o flujo de trabajo. Si bien hay muchos tipos diferentes de diagramas de flujo, el diagrama de flujo básico es un mapa de procesos en su forma más simple. Es una herramienta muy potente que se puede aplicar en muchos campos como la planificación, visualización, documentación y mejora de los procesos.\n",
        "![Texto alternativo](https://www.lifeder.com/wp-content/uploads/2020/08/diagrama-de-flujo-lifeder-decision-1024x736.jpg)\n",
        "\n",
        "\n",
        "**Beneficios de los Diagramas de Flujo**\n",
        "\n",
        "---\n",
        "\n",
        "\n",
        "Los diagramas de flujo son herramientas visuales extremadamente útiles para diversos propósitos en una empresa. Aquí se detallan algunos de sus beneficios clave:"
      ],
      "metadata": {
        "id": "UTAneKfJnChU"
      }
    },
    {
      "cell_type": "markdown",
      "source": [
        "**Claridad visual**\n",
        "\n",
        "---\n",
        "\n",
        "\n",
        "\n",
        "Una de las ventajas más significativas del uso de diagramas de flujo es su capacidad para visualizar y comprender procesos complejos de manera simple y accesible.\n",
        "\n",
        "**Mejora en la comunicación**\n",
        "\n",
        "---\n",
        "\n",
        "\n",
        "\n",
        "Los diagramas de flujo son herramientas efectivas durante las reuniones donde es crucial entender y comunicar procesos complejos de manera clara. Simplificar operaciones complejas mediante símbolos estandarizados de diagramas de flujo facilita la comunicación de información que de otro modo sería difícil de discutir.\n",
        "\n",
        "**Documentación eficiente**\n",
        "\n",
        "---\n",
        "\n",
        "\n",
        "\n",
        "Utilizar diagramas de flujo para describir procesos empresariales es una excelente manera de documentar tareas y comprender el progreso de su ejecución. Estos diagramas complementan la documentación escrita con elementos visuales, lo que facilita la comprensión y el seguimiento de las actividades empresariales.\n",
        "\n",
        "**Organización y asignación de tareas**\n",
        "\n",
        "---\n",
        "\n",
        "\n",
        "\n",
        "Los diagramas de flujo permiten organizar eficazmente al equipo y asignar tareas de manera clara y estructurada. Cada miembro del equipo puede visualizar su papel dentro del proceso global, lo que optimiza el flujo de trabajo.\n",
        "\n",
        "**Toma de decisiones y anticipación de problemas**\n",
        "\n",
        "---\n",
        "\n",
        "La representación visual de decisiones en un diagrama de flujo hace que parezcan menos intimidantes y más claras. Además, los diagramas de flujo ayudan a identificar cuellos de botella y problemas potenciales antes de que se conviertan en obstáculos significativos."
      ],
      "metadata": {
        "id": "zkiVdInHnjbB"
      }
    },
    {
      "cell_type": "markdown",
      "source": [
        "**Estandarización de procesos**\n",
        "\n",
        "---\n",
        "Una vez creado un diagrama de flujo efectivo, puede ser reutilizado para proyectos similares, ahorrando tiempo y reduciendo el estrés del equipo al estandarizar los procesos.\n",
        "\n",
        "**Seguimiento del progreso del proyecto**\n",
        "\n",
        "---\n",
        "\n",
        "Gracias a la facilidad para seguir los pasos en un diagrama de flujo, es posible determinar en qué etapa se encuentra el proyecto en cualquier momento. Esto simplifica enormemente el seguimiento del progreso y proporciona una visión clara de las tareas que aún deben completarse."
      ],
      "metadata": {
        "id": "eQW4euI_nxfq"
      }
    },
    {
      "cell_type": "markdown",
      "source": [
        "**Simbologia**\n",
        "\n",
        "---\n",
        "\n",
        "                                                                        \n",
        "![Texto alternativo](https://datavizcatalogue.com/ES/metodos/images/anatomy/SVG/diagrama_de_flujo.svg)\n",
        "\n",
        "**Partes de un diagrama de flujo**\n",
        "\n",
        "---\n",
        "**1. Inicio**\n",
        "\n",
        "Frecuentemente el comienzo es la salida del proceso anterior y el final la entrada al proceso siguiente. Identificar y listar las principales actividades o subprocesos que están incluidos en el proceso a describir y su orden cronológico.\n",
        "\n",
        "**2. Proceso**\n",
        "\n",
        "Un diagrama de flujo de proceso es una representación gráfica que muestra las variaciones y relaciones de una serie de acciones con un objetivo en común . Visualmente se puede apreciar la relación secuencial con la ayuda de descripciones, rectángulos, rombos, círculos, flechas, prismas circulares, entre otros símbolos.\n",
        "\n",
        "**3. Lectura**\n",
        "\n",
        "En el diagrama de flujo se representan todos los pasos, las secuencias y las decisiones de un proceso o flujo de trabajo. Si bien hay muchos tipos diferentes de diagramas de flujo, el diagrama de flujo básico es un mapa de procesos en su forma más simple.\n",
        "\n",
        "**4. Imprimir**\n",
        "\n",
        "Un Diagrama de Flujo representa la esquematización gráfica de un algoritmo, el cual muestra gráficamente los pasos o procesos a seguir para alcanzar la solución de un problema . Su correcta construcción es sumamente importante porque, a partir del mismo se escribe un programa en algún Lenguaje de Programación.\n",
        "\n",
        "**5. Decisión**\n",
        "\n",
        "Los puntos de decisión se representan usando rombos en el diagrama de flujo. Cada punto de decisión presenta una pregunta o una elección que debe hacerse según la información disponible.\n",
        "\n",
        "**6. Conectores**\n",
        "\n",
        "Conector (con otra página): Este símbolo se usa para conectar otros dos símbolos que están en diferentes páginas. Conector (en esta página): Con este punto se pueden conectar dos símbolos y reemplazar líneas largas para simplificar el diagrama de flujo.\n",
        "\n",
        "**7. Salida**\n",
        "\n",
        "Entrada/salida: El símbolo de entrada/salida representa el proceso de incorporación o extracción de datos externos en diagramas de flujo . Decisión: Este símbolo representa a una decisión que tu equipo o tú debes tomar para pasar al paso siguiente del proceso.\n",
        "\n"
      ],
      "metadata": {
        "id": "HogGReJyoCHU"
      }
    },
    {
      "cell_type": "markdown",
      "source": [
        "**Entrada/proceso/salida**\n",
        "\n",
        "---\n",
        "•La estructura EPS facilita la\n",
        "interacción eficiente de datos entre el\n",
        "usuario y el sistema computacional y el\n",
        "procesamiento de datos.\n",
        "\n",
        "• En la Salida se utiliza texto para añadir\n",
        "claridad y contexto a los datos de\n",
        "salida, facilitando la comprensión de\n",
        "los resultados por parte de los\n",
        "usuarios.\n",
        "\n",
        "\n",
        "![Texto alternativo](https://i.ytimg.com/vi/mevDyV2_5tU/maxresdefault.jpg)\n",
        "**Fases de entrada/proceso/salida**\n",
        "\n",
        "---\n",
        "| Fase    | Acción   | Descripción                                                | Ejemplos de Sintaxis                             |\n",
        "|---------|----------|------------------------------------------------------------|--------------------------------------------------|\n",
        "| Entrada | Lectura  | Recopila datos del usuario o de otros sistemas para su procesamiento. | Lea M1, M2, ..., Mn, donde Mi son variables.     |\n",
        "| Proceso | Cálculo  | Realiza cálculos o transformaciones lógicas sobre los datos ingresados. | M ← expresión                                    |\n",
        "| Salida  | Escritura| Devuelve los resultados del procesamiento al usuario.       | Escriba(\"El dominio de la funcion es: \", M1, M2, ..., Mn) |\n",
        "\n",
        "\n",
        "**Búsqueda lineal y binaria**\n",
        "\n",
        "---\n",
        "Conceptos de\n",
        "búsqueda lineal y binaria,\n",
        "aplicándolo a conjunto de datos\n",
        "de 100 números.\n",
        "Comprenderemos cómo cada\n",
        "método impacta la eficiencia del\n",
        "proceso de búsqueda.\n",
        "\n",
        "**Busqueda lineal**\n",
        "\n",
        "---\n",
        "• La búsqueda lineal implica revisar cada\n",
        "elemento secuencialmente hasta encontrar el\n",
        "objetivo. Este método es simple pero puede\n",
        "ser ineficiente en listas grandes.\n",
        "• El número máximo de pasos para encontrar un\n",
        "número sería n = 100.\n",
        "\n",
        "  1 2 3 4 5 6 7 8 9 10\n",
        "11 12 13 14 15 16 17 18 19 20\n",
        "21 22 23 24 25 26 27 28 29 30\n",
        "31 32 33 34 35 36 37 38 39 40\n",
        "41 42 43 44 45 46 47 48 49 50\n",
        "51 52 53 54 55 56 57 58 59 60\n",
        "61 62 63 64 65 66 67 68 69 70\n",
        "71 72 73 74 75 76 77 78 79 80\n",
        "81 82 83 84 85 86 87 88 89 90\n",
        "91 92 93 94 95 96 97 98 99 100\n",
        "\n",
        "**Busqueda binaria**\n",
        "\n",
        "---\n",
        "• La búsqueda binaria divide el conjunto de\n",
        "datos a la mitad en cada paso, lo que reduce\n",
        "significativamente el número de\n",
        "comparaciones necesarias, especialmente en\n",
        "conjuntos grandes.\n",
        "• El número máximo de pasos es\n",
        "aproximadamente log2 n . En este caso sería:\n",
        "log2 100 = 6.64 que se aproxima a 7.\n",
        "\n",
        "**Eficiencia**\n",
        "\n",
        "---\n",
        "| Tamaño del Conjunto (n) | Búsqueda Lineal (Pasos Máximos) | Búsqueda Binaria (Pasos Máximos) |\n",
        "|-------------------------|---------------------------------|---------------------------------|\n",
        "| 100                     | 100                             | 7                               |\n",
        "| 1,000                   | 1,000                           | 10                              |\n",
        "| 1,000,000               | 1,000,000                       | 20                              |\n",
        "![Texto alternativo](https://encrypted-tbn0.gstatic.com/images?q=tbn:ANd9GcQmiBmSorC_tqebvG1anRqGOKR-OTWEQtrT2Q&s)\n",
        "\n",
        "**Importancia del Ordenamiento**\n",
        "\n",
        "---\n",
        "\n",
        "- La efectividad de la búsqueda binaria depende de que el conjunto de datos esté ordenado previamente.\n",
        "![Texto alternativo](https://estructuradedatosunivia.wordpress.com/wp-content/uploads/2014/11/c9.jpg)\n",
        "\n",
        "**Eficiencia Comparativa**\n",
        "\n",
        "---\n",
        "- La búsqueda binaria es mucho más eficiente que la búsqueda lineal, reduciendo el número de pasos necesarios de forma logarítmica a medida que aumenta el tamaño del conjunto de datos.\n",
        "\n",
        "![Texto alternativo](https://upload.wikimedia.org/wikipedia/commons/thumb/f/f4/Binary_search_example_tree.svg/170px-Binary_search_example_tree.svg.png)\n",
        "\n",
        "**Uso en la vida real**\n",
        "\n",
        "---\n",
        "\n",
        "- La búsqueda binaria se aplica en situaciones donde el rendimiento y la escalabilidad son importantes, como bases de datos y motores de búsqueda.\n",
        "\n",
        "![Texto alternativo](https://bookdown.org/paranedagarcia/database/images/database.jpg)\n"
      ],
      "metadata": {
        "id": "rthiucfoBGU-"
      }
    },
    {
      "cell_type": "markdown",
      "source": [
        "\n",
        "**Sistemas Numéricos**\n",
        "\n",
        "---\n",
        "Un sistema numérico es un sistema de escritura para expresar números; es decir, una notación matemática para representar números de un conjunto determinado, utilizando dígitos u otros símbolos de manera coherente. La misma secuencia de símbolos puede representar diferentes números en diferentes sistemas de numeración que puede obtenerse como:\n",
        "\n",
        "𝑁=(𝑆,𝑅)\n",
        "\n",
        "donde:\n",
        "\n",
        "𝑁 = El sistema de numeración considerado decimal, binario, hexadecimal, etc.\n",
        "\n",
        "\n",
        "𝑆 = El conjunto de símbolos permitidos en el sistema. En el caso del decimal son {0,1,2,3...,9}; en el binario son (0,1); en el octal son {0,1,2,...,7}; en el hexadecimal son {0,1,2,...,9,A,B,C,D,E,F}.\n",
        "\n",
        "\n",
        "𝑅 = Las reglas que nos indican qué números y qué operaciones son válidos en el sistema, y cuáles no, en un sistema de numeración posicional las reglas son bastante simples, mientras que la numeración romana requiere reglas algo más elaboradas.\n",
        "\n",
        "![Texto alternativo](https://i.imgur.com/RYPB8rz.jpg)\n",
        "\n",
        "**Tipos de sistemas numéricos**\n",
        "\n",
        "---\n",
        "**Sistema binario:**\n",
        "Un número binario es un número expresado en el sistema de numeración de base 2 o sistema de numeración binario, un método para representar números que utiliza solo dos símbolos para los números naturales es típicamente \"0\" y \"1\".\n",
        "\n",
        "**Ejemplo**\n",
        "1. Dividimos el número a convertir, 174 en este caso entre dos. El cociente es 87 y el resto o residuo es 2.\n",
        "2. Observamos si podemos continuar la división entre 2 logrando un cociente entero. En este caso se puede, cociente 43, residuo 1.\n",
        "3. Continuamos la división hasta donde sea posible, en este caso al llegar al cociente 1, ya no podemos dividir entre 2 y obtener un cociente entero.\n",
        "4. El resultado se obtiene colocando de izquierda a derecha, primero el último cociente obtenido, en este caso 1 y luego todos los residuos hasta el primero.\n",
        "5. Seguimos la dirección de la flecha para esto.\n",
        "6. El resultado es 01110101\n",
        "\n",
        "![Texto alternativo](https://unicrom.com/wp-content/uploads/conversion-numero-decimal-a-binario.png)\n",
        "\n",
        "**Sistema Decimal:**\n",
        "El sistema de numeración decimal es el sistema estándar para denotar números enteros y no enteros. Es la extensión a los números no enteros del sistema de numeración hindú-arábigo. La forma de denotar números en el sistema decimal a menudo se denomina como notación decimal.\n",
        "\n",
        "**Lectura De Números Decimales**\n",
        "\n",
        "Leer números decimales es muy sencillo. La lectura de números decimales se realiza de varias formas. Para verlo de mejor manera, partamos de un ejemplo con el número decimal: 47,63.\n",
        "\n",
        "- Forma 1: Cuarenta y siete coma sesenta y tres.\n",
        "- Forma 2: Cuarenta y siete con sesenta y tres.\n",
        "- Forma 3: Cuarenta y siete unidades y sesenta y tres centésimas.\n",
        "\n",
        "**Tipos De Números Decimales**\n",
        "\n",
        "Existen varios tipos de números decimales y estos pueden ser: decimal exacto, decimal periódico que pueden ser puros o mixtos y decimal no exacto ni periódico.\n",
        "\n",
        "**Decimal Exacto**\n",
        "\n",
        "Los números decimales pueden ser decimal exacto, si están compuestos por un número finito de cifras decimales. Por ejemplo 5,7.\n",
        "\n",
        "**Decimal Periódico**\n",
        "\n",
        "Los números decimales también pueden ser decimal periódico. Son aquellos que tienen una cantidad ilimitada de cifras decimales. Por ejemplo 3,333..\n",
        "\n",
        "![Texto alternativo](https://imagenes.elpais.com/resizer/v2/GS3FZX5YFVC6HCBGALQNVMYZTE.jpg?auth=2096df914c557f9e4b1788fb84a1d3358ba7ffa41b12a5ca05031765bd4eacb6&width=414)\n",
        "\n"
      ],
      "metadata": {
        "id": "f73Mg582BVfN"
      }
    },
    {
      "cell_type": "markdown",
      "source": [
        "**Ejemplos**\n",
        "\n",
        "---\n",
        "Ubicar la negacion de Q en:\n",
        "$$\n",
        "\\forall n \\in \\mathbb{N}, \\, \\exists k \\in \\mathbb{N} \\, \\text{tal que} \\, k > n\n",
        "$$\n"
      ],
      "metadata": {
        "id": "tUv4TIo-6V7g"
      }
    },
    {
      "cell_type": "markdown",
      "source": [
        "Ls negacion de Q es:\n",
        "$$\n",
        "\\exists n \\in \\mathbb{N}, \\, \\forall k \\in \\mathbb{N} \\, \\text{tal que} \\, k \\leq n\n",
        "$$\n"
      ],
      "metadata": {
        "id": "yQAwu0WZ8Uzz"
      }
    },
    {
      "cell_type": "markdown",
      "source": [
        "Ubicar la negación de R en:\n",
        "\n",
        "$$\n",
        "\\forall n \\in \\mathbb{N}, \\, \\exists k \\in \\mathbb{N} \\, \\text{tal que} \\, k  ≤ n\n",
        "$$\n"
      ],
      "metadata": {
        "id": "L5JXnPDX8hkw"
      }
    },
    {
      "cell_type": "markdown",
      "source": [
        "Ls negacion de R es:\n",
        "$$\n",
        "\\exists n \\in \\mathbb{N}, \\, \\forall k \\in \\mathbb{N} \\, \\text{tal que} \\, k > n\n",
        "$$\n"
      ],
      "metadata": {
        "id": "ETdICAsU92S0"
      }
    },
    {
      "cell_type": "markdown",
      "source": [
        "Por tanto se puede decir que en un sistema númerico solo hay dos opciones con respecto a simbolos de comparación\n",
        "\n",
        "1. Que uno sea menor o igual que otro\n",
        " $$\n",
        " A \\leq B\n",
        "$$\n",
        "\n",
        "\n",
        "2. Que uno sea mayor\n",
        "$$\n",
        "A > B\n",
        "$$"
      ],
      "metadata": {
        "id": "a8z8gvXB-B3Y"
      }
    },
    {
      "cell_type": "markdown",
      "source": [
        "En caso de la suma (N, +)\n",
        "\n",
        "$$\n",
        "\\forall a,b \\in \\mathbb{N}, \\, \\exists c \\in \\mathbb{N} \\, \\text{tal que} \\, c=a+b\n",
        "$$\n",
        "\n",
        "Origina a lo que es problemas aritmeticos y algebraicos donde se puede buscar ya sea:\n",
        "\n",
        "$$\n",
        "A+B=?\n",
        "$$\n",
        "\n",
        "Que es un problema aritmetico o también:\n",
        "$$\n",
        "A+?=B\n",
        "$$\n",
        "Que es un problema algebraico\n",
        "\n"
      ],
      "metadata": {
        "id": "P0XLIs2l-TsF"
      }
    },
    {
      "cell_type": "markdown",
      "source": [
        "**Ejemplo**\n",
        "\n",
        "Sea $$n \\in \\mathbb{N} $$\n",
        "\n",
        "Considere\n",
        "$$\n",
        "n+?=0\n",
        "$$\n",
        "\n",
        "Por años esta operación no tenia respuesta por tanto se origino un nuevo conjunto de numeros que son los negativos (-)\n",
        "\n",
        "Quedando de esta manera\n",
        "$$ n+(-n)=0 $$"
      ],
      "metadata": {
        "id": "ayJMWhQ2A-Il"
      }
    },
    {
      "cell_type": "markdown",
      "source": [
        "Por tanto como conclusion los números naturales $${\\displaystyle \\mathbb {N} }$$\n",
        "pueden tener solamente procesos de simetrización con respecto a:\n",
        "\n",
        "1. La suma (+)\n",
        "$$ n+(-n)=0 => ? = -n$$\n",
        "2. La comparacion (<)\n",
        " $$\n",
        " A \\leq B\n",
        "$$\n",
        "$$\n",
        "A > B\n",
        "$$\n",
        "3. La multiplicación (x)\n",
        "$$\n",
        "X \\times ? = 1 \\implies \\frac{1}{X}\n",
        "$$\n",
        "\n",
        "Al ver esta simetrizacion se puede notar que se necesita un conjunto de números mas grandes que los naturales por tanto surge los **enteros relativos** que da paso a **los racionales** que por su parte da paso a **los reales** y por ultimo a **los compuestos o imaginarios**"
      ],
      "metadata": {
        "id": "0qFp9j2vCMo8"
      }
    }
  ]
}